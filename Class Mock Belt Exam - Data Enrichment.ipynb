{
 "cells": [
  {
   "cell_type": "markdown",
   "id": "d699350b",
   "metadata": {},
   "source": [
    "# Mock Belt Exam - Data Enrichment"
   ]
  },
  {
   "cell_type": "markdown",
   "id": "028cec6c",
   "metadata": {},
   "source": [
    "\n",
    "- Blank Notebook for Lecture\n",
    "- 08/04/22\n",
    "- Purvi Kansara"
   ]
  },
  {
   "cell_type": "markdown",
   "id": "d22c6aa9",
   "metadata": {},
   "source": [
    "## Instructions"
   ]
  },
  {
   "cell_type": "markdown",
   "id": "04013adb",
   "metadata": {},
   "source": [
    "Data Enrichment Mock Exam\n",
    "\n",
    "API results:\n",
    "\n",
    "https://drive.google.com/file/d/10iWPhZtId0R9RCiVculSozCwldG-V3eH/view?usp=sharing\n",
    "\n",
    "1. Read in the json file\n",
    "2. Separate the records into 4 tables each a pandas dataframe\n",
    "3. Transform\n",
    "    In this case remove dollar signs from funded amount in the financials records and convert to numeric datatype\n",
    "4. Create a database with SQLAlchemy and add the tables to the datbase\n",
    "5. Perform a hypothesis test to determine if there is a signficant difference between the funded amount when it is all males and when there is at least one female in the group."
   ]
  },
  {
   "cell_type": "markdown",
   "id": "4e1309a1",
   "metadata": {},
   "source": [
    "# ETL of JSON File"
   ]
  },
  {
   "cell_type": "code",
   "execution_count": null,
   "id": "892936f6",
   "metadata": {},
   "outputs": [],
   "source": []
  },
  {
   "cell_type": "markdown",
   "id": "5032546c",
   "metadata": {},
   "source": [
    "## Extract"
   ]
  },
  {
   "cell_type": "code",
   "execution_count": null,
   "id": "5d858e95",
   "metadata": {},
   "outputs": [],
   "source": [
    "## Loading json file\n"
   ]
  },
  {
   "cell_type": "code",
   "execution_count": null,
   "id": "9765a07d",
   "metadata": {},
   "outputs": [],
   "source": [
    "## explore each key \n"
   ]
  },
  {
   "cell_type": "code",
   "execution_count": null,
   "id": "2798b080",
   "metadata": {},
   "outputs": [],
   "source": [
    "## display meta\n"
   ]
  },
  {
   "cell_type": "code",
   "execution_count": null,
   "id": "2d34f842",
   "metadata": {},
   "outputs": [],
   "source": [
    "## display data\n"
   ]
  },
  {
   "cell_type": "code",
   "execution_count": null,
   "id": "faab5a40",
   "metadata": {},
   "outputs": [],
   "source": [
    "## preview the dictionary\n"
   ]
  },
  {
   "cell_type": "code",
   "execution_count": null,
   "id": "c7e0a566",
   "metadata": {},
   "outputs": [],
   "source": [
    "## preview just the keys\n"
   ]
  },
  {
   "cell_type": "code",
   "execution_count": null,
   "id": "6f564ca3",
   "metadata": {},
   "outputs": [],
   "source": [
    "## what does the crowd key look like?\n"
   ]
  },
  {
   "cell_type": "code",
   "execution_count": null,
   "id": "75f2b49d",
   "metadata": {},
   "outputs": [],
   "source": [
    "## checking single entry of crowd\n"
   ]
  },
  {
   "cell_type": "code",
   "execution_count": null,
   "id": "20ff0592",
   "metadata": {},
   "outputs": [],
   "source": [
    "## making crowd a dataframe\n"
   ]
  },
  {
   "cell_type": "code",
   "execution_count": null,
   "id": "bf582ada",
   "metadata": {},
   "outputs": [],
   "source": [
    "## making demographics a dataframe\n"
   ]
  },
  {
   "cell_type": "code",
   "execution_count": null,
   "id": "6b340255",
   "metadata": {},
   "outputs": [],
   "source": [
    "## making financials a dataframe\n"
   ]
  },
  {
   "cell_type": "code",
   "execution_count": null,
   "id": "0d01a806",
   "metadata": {
    "scrolled": false
   },
   "outputs": [],
   "source": [
    "## making use a dataframe\n"
   ]
  },
  {
   "cell_type": "markdown",
   "id": "39435c26",
   "metadata": {},
   "source": [
    "## Transform"
   ]
  },
  {
   "cell_type": "code",
   "execution_count": null,
   "id": "42e74774",
   "metadata": {
    "scrolled": false
   },
   "outputs": [],
   "source": [
    "## fixing funded amount column\n"
   ]
  },
  {
   "cell_type": "markdown",
   "id": "0dadaf52",
   "metadata": {},
   "source": [
    "## Load"
   ]
  },
  {
   "cell_type": "code",
   "execution_count": null,
   "id": "31674071",
   "metadata": {},
   "outputs": [],
   "source": [
    "## loading mysql credentials\n"
   ]
  },
  {
   "cell_type": "code",
   "execution_count": null,
   "id": "1735e72f",
   "metadata": {},
   "outputs": [],
   "source": [
    "## creating connection to database with sqlalchemy\n"
   ]
  },
  {
   "cell_type": "code",
   "execution_count": null,
   "id": "2090d0f3",
   "metadata": {},
   "outputs": [],
   "source": [
    "## Check if database exists, if not, create it\n"
   ]
  },
  {
   "cell_type": "code",
   "execution_count": null,
   "id": "2f5f2242",
   "metadata": {},
   "outputs": [],
   "source": [
    "## saving dataframes to database\n"
   ]
  },
  {
   "cell_type": "code",
   "execution_count": null,
   "id": "f8acaedc",
   "metadata": {},
   "outputs": [],
   "source": [
    "## checking if tables created\n"
   ]
  },
  {
   "cell_type": "markdown",
   "id": "ce4397a3",
   "metadata": {},
   "source": [
    "# Hypothesis Testing"
   ]
  },
  {
   "cell_type": "markdown",
   "id": "6cda1c2a",
   "metadata": {},
   "source": [
    "### State the Hypothesis & Null Hypothesis "
   ]
  },
  {
   "cell_type": "markdown",
   "id": "99032d8e",
   "metadata": {},
   "source": [
    "- $H_0$ (Null Hypothesis): Funded amount is the same for teams that contain at least 1 female and teams that are all male.\n",
    "- $H_A$ (Alternative Hypothesis): There is a significant difference between the funded amount for teams that contain at least 1 female and teams that are all male."
   ]
  },
  {
   "cell_type": "markdown",
   "id": "bb531018",
   "metadata": {},
   "source": [
    "- Based upon the [Choosing the Right Hypothesis Test workflow from  the LP]( https://login.codingdojo.com/m/376/12533/88117):\n",
    "    - **The appropriate test to perform would be:**\n",
    "        - Since we are measuring a numeric quantity (funded amount)\n",
    "        - and we are comparing 2 groups/samples. \n",
    "        - We therefore want to perform a 2-sample t-test, A.K.A. an independent t-test.\n",
    "    \n",
    "- **According the the work flow, the 2-sample T-Test has the following assumptions:** \n",
    "    - No significant outliers\n",
    "    - Normality\n",
    "    - Equal Variance"
   ]
  },
  {
   "cell_type": "markdown",
   "id": "4b85d2b4",
   "metadata": {},
   "source": [
    "## Getting the Group Data "
   ]
  },
  {
   "cell_type": "markdown",
   "id": "19ec3c61",
   "metadata": {},
   "source": [
    "- The next step is to get the data for each group in separate variables. All of the approaches below will lead to the same result: a `male_df` and `female_df` variable."
   ]
  },
  {
   "cell_type": "markdown",
   "id": "06f835cb",
   "metadata": {},
   "source": [
    "### Approach 1: Using the MySQL Database to Get DF to Filter"
   ]
  },
  {
   "cell_type": "code",
   "execution_count": null,
   "id": "c94dac9d",
   "metadata": {},
   "outputs": [],
   "source": [
    "q = \"\"\"SELECT \n",
    "    f.id, f.funded_amount, d.borrower_genders\n",
    "FROM\n",
    "    financials AS f\n",
    "        JOIN\n",
    "    demographics AS d ON f.id = d.id;\"\"\"\n",
    "df = pd.read_sql(q,engine)\n",
    "df"
   ]
  },
  {
   "cell_type": "code",
   "execution_count": null,
   "id": "bd3c8a69",
   "metadata": {},
   "outputs": [],
   "source": [
    "## Create a column that defines the 2 groups, has female or not\n",
    "df['has_female'] = df['borrower_genders'].str.contains('female', case=False)\n",
    "df"
   ]
  },
  {
   "cell_type": "code",
   "execution_count": null,
   "id": "b6c133b9",
   "metadata": {},
   "outputs": [],
   "source": [
    "## Separate the column of interest based on the groups\n",
    "male_df = df.loc[ df['has_female']==False, ['funded_amount','has_female']]\n",
    "female_df = df.loc[ df['has_female']==True, ['funded_amount','has_female']]\n",
    "print(f\"There are {len(female_df)} campaigns that had females on the team.\" )\n",
    "print(f\"There are {len(male_df)} campaigns that only had males on the team.\" )"
   ]
  },
  {
   "cell_type": "markdown",
   "id": "54be9cb8",
   "metadata": {},
   "source": [
    "### Approach 2: Using the MySQL database to make the male_df and female_df"
   ]
  },
  {
   "cell_type": "markdown",
   "id": "35731364",
   "metadata": {},
   "source": [
    ">- Due to a quirk with using \"%\" with sqlalchemy queries, in order to use a LIKE command with \"%\" for \"%female\":\n",
    "    1. Add quotation marks around the \"%\" expression. \n",
    "    ```python\n",
    "    q = '''SELECT \n",
    "    f.funded_amount, d.borrower_genders\n",
    "FROM\n",
    "    financials AS f\n",
    "        JOIN\n",
    "    demographics AS d ON f.id = d.id\n",
    "WHERE\n",
    "    d.borrower_genders LIKE \"%female%\";'''\n",
    "    ```\n",
    "    2. Use the sqlalchemy text function when running your query. \n",
    "    ```python\n",
    "    from sqlalchemy import text\n",
    "    female_df = pd.read_sql(text(q),engine)\n",
    "    ```"
   ]
  },
  {
   "cell_type": "code",
   "execution_count": null,
   "id": "9a61eb01",
   "metadata": {},
   "outputs": [],
   "source": [
    "## importing text function to use on query with a \"%\" in it\n",
    "from sqlalchemy import text"
   ]
  },
  {
   "cell_type": "code",
   "execution_count": null,
   "id": "bed33006",
   "metadata": {},
   "outputs": [],
   "source": [
    "## query to get campaigns that included female borrowers\n",
    "q = '''SELECT \n",
    "    f.funded_amount,  \n",
    "    d.borrower_genders LIKE \"%female%\" as \"has_female\"\n",
    "FROM\n",
    "    financials AS f\n",
    "        JOIN\n",
    "    demographics AS d ON f.id = d.id\n",
    "WHERE\n",
    "    d.borrower_genders LIKE \"%female%\";'''\n",
    "female_df = pd.read_sql(text(q),engine)\n",
    "female_df"
   ]
  },
  {
   "cell_type": "code",
   "execution_count": null,
   "id": "f05b310d",
   "metadata": {},
   "outputs": [],
   "source": [
    "## query to get campaigns that were only male borrowers\n",
    "q = \"\"\"SELECT \n",
    "    f.funded_amount, \n",
    "    d.borrower_genders LIKE \"%female%\" as \"has_female\"\n",
    "\n",
    "FROM\n",
    "    financials AS f\n",
    "        JOIN\n",
    "    demographics AS d ON f.id = d.id\n",
    "WHERE\n",
    "    d.borrower_genders NOT LIKE '%female%';\"\"\"\n",
    "male_df = pd.read_sql(text(q),engine)\n",
    "male_df"
   ]
  },
  {
   "cell_type": "code",
   "execution_count": null,
   "id": "8cb05ac0",
   "metadata": {},
   "outputs": [],
   "source": [
    "print(f\"There are {len(female_df)} campaigns that had females on the team.\" )\n",
    "print(f\"There are {len(male_df)} campaigns that only had males on the team.\" )"
   ]
  },
  {
   "cell_type": "markdown",
   "id": "a686bdf5",
   "metadata": {},
   "source": [
    "### Approach 3: Use pd.merge to join the DataFrames"
   ]
  },
  {
   "cell_type": "code",
   "execution_count": null,
   "id": "a6e7f8d2",
   "metadata": {},
   "outputs": [],
   "source": [
    "df = pd.merge(financials, demo, on='id')\n",
    "df"
   ]
  },
  {
   "cell_type": "code",
   "execution_count": null,
   "id": "ede21deb",
   "metadata": {},
   "outputs": [],
   "source": [
    "df['has_female'] = df['borrower_genders'].str.contains('female', case=False)\n",
    "df"
   ]
  },
  {
   "cell_type": "code",
   "execution_count": null,
   "id": "ccd56303",
   "metadata": {},
   "outputs": [],
   "source": [
    "## Separate the column of interest based on the groups\n",
    "male_df = df.loc[ df['has_female']==False, ['funded_amount','has_female']]\n",
    "female_df = df.loc[ df['has_female']==True,['funded_amount','has_female']]\n",
    "\n",
    "print(f\"There are {len(female_df)} campaigns that had females on the team.\" )\n",
    "print(f\"There are {len(male_df)} campaigns that only had males on the team.\" )"
   ]
  },
  {
   "cell_type": "markdown",
   "id": "a85b3e44",
   "metadata": {},
   "source": [
    "## Visualize Group Means"
   ]
  },
  {
   "cell_type": "code",
   "execution_count": null,
   "id": "46e68d38",
   "metadata": {},
   "outputs": [],
   "source": [
    "## concatenate the two dataframes for visualziation.\n",
    "plot_df = pd.concat([male_df, female_df], axis=0)\n",
    "plot_df"
   ]
  },
  {
   "cell_type": "code",
   "execution_count": null,
   "id": "d21c4426",
   "metadata": {},
   "outputs": [],
   "source": [
    "## visualizing means. ci=68 makes easier to compare error bars (will discuss in class)\n",
    "ax = sns.barplot(data=plot_df, x='has_female', y='funded_amount', ci=68)"
   ]
  },
  {
   "cell_type": "code",
   "execution_count": null,
   "id": "ee850665",
   "metadata": {},
   "outputs": [],
   "source": [
    "## now that we have visualized the groups, we can save a final male_group and female_group\n",
    "# that are a pandas Series. This will make the rest of our workflow simpler than if \n",
    "# we still had a dataframe\n",
    "\n",
    "female_group = female_df['funded_amount']\n",
    "male_group = male_df['funded_amount']\n",
    "display(female_group.head(), male_group.head())"
   ]
  },
  {
   "cell_type": "markdown",
   "id": "8901ce0a",
   "metadata": {},
   "source": [
    "## Checking Assumptions of 2-Sample T-test"
   ]
  },
  {
   "cell_type": "markdown",
   "id": "6ddae7b6",
   "metadata": {},
   "source": [
    "- **According the the work flow, the 2-sample T-Test has the following assumptions:** \n",
    "    - No significant outliers\n",
    "    - Normality\n",
    "    - Equal Variance"
   ]
  },
  {
   "cell_type": "markdown",
   "id": "2335ca96",
   "metadata": {},
   "source": [
    "### Checking for Outliers"
   ]
  },
  {
   "cell_type": "markdown",
   "id": "9506d3ed",
   "metadata": {},
   "source": [
    "- Check each group SEPARATELY!"
   ]
  },
  {
   "cell_type": "code",
   "execution_count": null,
   "id": "696fac22",
   "metadata": {},
   "outputs": [],
   "source": [
    "## Checking for abs vlaue of z-scores that are > 3\n",
    "is_outlier_females = np.abs(stats.zscore(female_group)) > 3\n",
    "print(f\"There are {is_outlier_females.sum()} outliers in the female group out of {len(female_group)})\")"
   ]
  },
  {
   "cell_type": "code",
   "execution_count": null,
   "id": "32b55254",
   "metadata": {},
   "outputs": [],
   "source": [
    "female_df.loc[~is_outlier_females]"
   ]
  },
  {
   "cell_type": "code",
   "execution_count": null,
   "id": "70b1ecf7",
   "metadata": {},
   "outputs": [],
   "source": [
    "## removing outliers from female_group\n",
    "female_group = female_group.loc[~is_outlier_females]\n",
    "female_group"
   ]
  },
  {
   "cell_type": "code",
   "execution_count": null,
   "id": "cdab36c4",
   "metadata": {},
   "outputs": [],
   "source": [
    "## Checking for abs vlaue of z-scores that are > 3\n",
    "is_outlier_males = np.abs(stats.zscore(male_group)) > 3\n",
    "print(f\"There are {is_outlier_males.sum()} outliers in the male group of out of {len(male_group)}.\")"
   ]
  },
  {
   "cell_type": "code",
   "execution_count": null,
   "id": "f5880a67",
   "metadata": {},
   "outputs": [],
   "source": [
    "## removing outliers from male_group\n",
    "male_group = male_group.loc[~is_outlier_males]\n",
    "male_group"
   ]
  },
  {
   "cell_type": "markdown",
   "id": "5d6b8d97",
   "metadata": {},
   "source": [
    "### Checking for Normality"
   ]
  },
  {
   "cell_type": "markdown",
   "id": "902dee37",
   "metadata": {},
   "source": [
    "- According to the workflow on the LP, since both groups have n > 15, we can safely ignore the assumption of normality."
   ]
  },
  {
   "cell_type": "markdown",
   "id": "d774b4e8",
   "metadata": {},
   "source": [
    "### Checking for Equal Variance"
   ]
  },
  {
   "cell_type": "code",
   "execution_count": null,
   "id": "0400a513",
   "metadata": {},
   "outputs": [],
   "source": [
    "result = stats.levene(male_group, female_group)\n",
    "print(result)\n",
    "print(result.pvalue<.05)"
   ]
  },
  {
   "cell_type": "markdown",
   "id": "50d03f9b",
   "metadata": {},
   "source": [
    "- According to the documentation for stats.levene, the null hypothesis for the test is that both groups have equal variance. Since our p-value is less than .05 we reject that null hypothesis and conclude that our groups do NOT have equal variance. \n",
    "\n",
    "- Since we did NOT meet the assumption of equal variance, we will run our stats.ttest_ind using equal_var=False. This will run a Welch's T-Test, which is designed to account for unequal variance. "
   ]
  },
  {
   "cell_type": "markdown",
   "id": "1e343d80",
   "metadata": {},
   "source": [
    "## Statistical Test "
   ]
  },
  {
   "cell_type": "code",
   "execution_count": null,
   "id": "90067e86",
   "metadata": {},
   "outputs": [],
   "source": [
    "result = stats.ttest_ind(male_group, female_group, equal_var=False)\n",
    "print(result)\n",
    "result.pvalue < .05"
   ]
  },
  {
   "cell_type": "markdown",
   "id": "4e3a107c",
   "metadata": {},
   "source": [
    "## Final Conclusion"
   ]
  },
  {
   "cell_type": "markdown",
   "id": "492dc971",
   "metadata": {},
   "source": [
    "- Our Welch's T-Test return a p-value < .05 (it was actually p <.0001!) we reject the null hypothesis and support the alternative hypothesis that there is a significant difference in funded amounts for teams that included at least 1 female. \n",
    "\n",
    "- In order to know if they are funded significantly MORE or LESS, we look at the actual means of our final groups."
   ]
  },
  {
   "cell_type": "code",
   "execution_count": null,
   "id": "07364513",
   "metadata": {},
   "outputs": [],
   "source": [
    "print(f\"The average funded_amount for male groups was {male_group.mean():.2f}\")\n",
    "print(f\"The average funded_amount for female groups was {female_group.mean():.2f}\")"
   ]
  },
  {
   "cell_type": "markdown",
   "id": "88c90e76",
   "metadata": {},
   "source": [
    "- Male groups are funded at significantly higher amounts than female groups. "
   ]
  },
  {
   "cell_type": "markdown",
   "id": "fdcebe09",
   "metadata": {},
   "source": [
    "## OPTIONAL - VIEWING THE BARPLOT WITHOUT OUTLIERS"
   ]
  },
  {
   "cell_type": "code",
   "execution_count": null,
   "id": "3255be8d",
   "metadata": {},
   "outputs": [],
   "source": [
    "## concatenate the two dataframes for visualziation.\n",
    "plot_df = pd.concat([male_df.loc[~is_outlier_males], \n",
    "                     female_df.loc[~is_outlier_females]], axis=0)\n",
    "plot_df"
   ]
  },
  {
   "cell_type": "code",
   "execution_count": null,
   "id": "c84b48d4",
   "metadata": {},
   "outputs": [],
   "source": [
    "sns.barplot(data=plot_df, x='has_female',y='funded_amount')"
   ]
  }
 ],
 "metadata": {
  "kernelspec": {
   "display_name": "Python (dojo-env)",
   "language": "python",
   "name": "dojo-env"
  },
  "language_info": {
   "codemirror_mode": {
    "name": "ipython",
    "version": 3
   },
   "file_extension": ".py",
   "mimetype": "text/x-python",
   "name": "python",
   "nbconvert_exporter": "python",
   "pygments_lexer": "ipython3",
   "version": "3.8.13"
  },
  "toc": {
   "base_numbering": 1,
   "nav_menu": {},
   "number_sections": false,
   "sideBar": true,
   "skip_h1_title": false,
   "title_cell": "Table of Contents",
   "title_sidebar": "Contents",
   "toc_cell": false,
   "toc_position": {
    "height": "calc(100% - 180px)",
    "left": "10px",
    "top": "150px",
    "width": "299.195px"
   },
   "toc_section_display": true,
   "toc_window_display": true
  }
 },
 "nbformat": 4,
 "nbformat_minor": 5
}
